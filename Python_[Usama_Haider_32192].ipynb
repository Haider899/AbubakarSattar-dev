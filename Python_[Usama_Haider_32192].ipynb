{
  "nbformat": 4,
  "nbformat_minor": 0,
  "metadata": {
    "colab": {
      "provenance": [],
      "collapsed_sections": [],
      "toc_visible": true,
      "authorship_tag": "ABX9TyOh3C5N7lorBOCxgyjFVu+u",
      "include_colab_link": true
    },
    "kernelspec": {
      "name": "python3",
      "display_name": "Python 3"
    },
    "language_info": {
      "name": "python"
    }
  },
  "cells": [
    {
      "cell_type": "markdown",
      "metadata": {
        "id": "view-in-github",
        "colab_type": "text"
      },
      "source": [
        "<a href=\"https://colab.research.google.com/github/Haider899/AbubakarSattar-dev/blob/main/Python_%5BUsama_Haider_32192%5D.ipynb\" target=\"_parent\"><img src=\"https://colab.research.google.com/assets/colab-badge.svg\" alt=\"Open In Colab\"/></a>"
      ]
    },
    {
      "cell_type": "code",
      "execution_count": null,
      "metadata": {
        "colab": {
          "base_uri": "https://localhost:8080/"
        },
        "id": "8bZgItexyfSc",
        "outputId": "9f8a8d46-f267-433c-e205-b357352b6759"
      },
      "outputs": [
        {
          "output_type": "stream",
          "name": "stdout",
          "text": [
            "Input a number: 1\n",
            "It is positive number\n"
          ]
        }
      ],
      "source": [
        "#Q:1\n",
        "num = float(input(\"Input a number: \"))\n",
        "if num > 0:\n",
        "   print(\"It is positive number\")\n",
        "elif num == -1:\n",
        "   print(\"It is negtive one\")\n",
        "else:\n",
        "   print(\"It is a negative number\")"
      ]
    },
    {
      "cell_type": "code",
      "source": [
        "#Q:2\n",
        "upto = int(input(\"product of prime numbers upto : \"))\n",
        "product = 0\n",
        "for num in range(2, upto + 1):\n",
        "    i = 2\n",
        "    \n",
        "    for i in range(2, num):\n",
        "        if (int(num % i) == 0):\n",
        "            i = num\n",
        "            break;\n",
        "\n",
        "    #If the number is prime then add it.\n",
        "    if i is not num:\n",
        "        product = num*num\n",
        "\n",
        "print(\"Product of all prime numbers upto\", upto, \"is :\", product)"
      ],
      "metadata": {
        "colab": {
          "base_uri": "https://localhost:8080/"
        },
        "id": "QCG19vBH_T7s",
        "outputId": "89044220-0107-4ce0-8692-ee6c119753be"
      },
      "execution_count": null,
      "outputs": [
        {
          "output_type": "stream",
          "name": "stdout",
          "text": [
            "product of prime numbers upto : 50\n",
            "Product of all prime numbers upto 50 is : 2209\n"
          ]
        }
      ]
    },
    {
      "cell_type": "code",
      "source": [
        "#Q:3\n",
        "Lower_Num=int(input(\"Enter the first number for range: \"))\n",
        "Upper_Num=int(input(\"Enter the second number for range: \"))\n",
        "print(\"Display the even numbers between two numbers are: \")\n",
        "for i in range(Lower_Num,Upper_Num+1):\n",
        "    if(i%2==0):\n",
        "        print(i)\n",
        "print(\"Display the odd numbers between two numbers are: \")\n",
        "for i in range(Lower_Num,Upper_Num+1):\n",
        "    if(i%2==1):\n",
        "        print(i)"
      ],
      "metadata": {
        "colab": {
          "base_uri": "https://localhost:8080/"
        },
        "id": "-IkrUuzz_ic_",
        "outputId": "5707b654-4976-40e8-9b40-5827c4d8a9cb"
      },
      "execution_count": null,
      "outputs": [
        {
          "output_type": "stream",
          "name": "stdout",
          "text": [
            "Enter the first number for range: 25\n",
            "Enter the second number for range: 55\n",
            "Display the even numbers between two numbers are: \n",
            "26\n",
            "28\n",
            "30\n",
            "32\n",
            "34\n",
            "36\n",
            "38\n",
            "40\n",
            "42\n",
            "44\n",
            "46\n",
            "48\n",
            "50\n",
            "52\n",
            "54\n",
            "Display the odd numbers between two numbers are: \n",
            "25\n",
            "27\n",
            "29\n",
            "31\n",
            "33\n",
            "35\n",
            "37\n",
            "39\n",
            "41\n",
            "43\n",
            "45\n",
            "47\n",
            "49\n",
            "51\n",
            "53\n",
            "55\n"
          ]
        }
      ]
    },
    {
      "cell_type": "code",
      "source": [
        "#Q:4\n",
        "# Python Program to convert temperature in celsius to fahrenheit\n",
        "\n",
        "# change this value for a different result\n",
        "celsius= float (input(\"Enter Temperature in Celcius: \"))\n",
        "# calculate fahrenheit\n",
        "fahrenheit = (celsius * 1.8) + 32\n",
        "print('%0.1f degree Celsius is equal to %0.1f degree Fahrenheit' %(celsius,fahrenheit))\n"
      ],
      "metadata": {
        "colab": {
          "base_uri": "https://localhost:8080/"
        },
        "id": "FDCP0-vS1vB-",
        "outputId": "f9423599-2972-4174-cd86-b874402166a3"
      },
      "execution_count": null,
      "outputs": [
        {
          "output_type": "stream",
          "name": "stdout",
          "text": [
            "Enter Temperature in Celcius: 37.5\n",
            "37.5 degree Celsius is equal to 99.5 degree Fahrenheit\n"
          ]
        }
      ]
    },
    {
      "cell_type": "code",
      "source": [
        "#Q:5\n",
        "ch = input(\"Enter a character: \")\n",
        "\n",
        "if(ch=='A' or ch=='a' or ch=='E' or ch =='e' or ch=='I'\n",
        " or ch=='i' or ch=='O' or ch=='o' or ch=='U' or ch=='u'):\n",
        "    print(ch, \"is a Vowel\")\n",
        "else:\n",
        "    print(ch, \"is a Consonant\")"
      ],
      "metadata": {
        "colab": {
          "base_uri": "https://localhost:8080/"
        },
        "id": "mbVPYHOQ4zC7",
        "outputId": "0fe669cf-8e5d-4fc9-a1d5-b84c1818089b"
      },
      "execution_count": null,
      "outputs": [
        {
          "output_type": "stream",
          "name": "stdout",
          "text": [
            "Enter a character: i\n",
            "i is a Vowel\n"
          ]
        }
      ]
    }
  ]
}